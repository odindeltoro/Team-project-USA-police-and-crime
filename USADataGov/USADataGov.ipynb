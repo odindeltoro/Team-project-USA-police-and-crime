{
 "cells": [
  {
   "cell_type": "markdown",
   "metadata": {},
   "source": [
    "# ETL USA Data Gov API"
   ]
  },
  {
   "cell_type": "markdown",
   "metadata": {},
   "source": [
    "This is a public API with access to USA Data Government data set of FBI Crime Data.\n",
    "https://api.data.gov/docs/fbi/\n"
   ]
  },
  {
   "cell_type": "markdown",
   "metadata": {},
   "source": [
    "**API endopints:**\n",
    "\n",
    "* Agency level SRS Crime Data\n",
    "\n",
    "\n",
    "\n"
   ]
  },
  {
   "cell_type": "markdown",
   "metadata": {},
   "source": [
    "Data has supported formats CSV or JSON. The call will be for JSON format."
   ]
  },
  {
   "cell_type": "markdown",
   "metadata": {},
   "source": [
    "### Extract data from source"
   ]
  },
  {
   "cell_type": "code",
   "execution_count": 1,
   "metadata": {},
   "outputs": [],
   "source": [
    "# Import dependencies\n",
    "import requests\n",
    "import json"
   ]
  },
  {
   "cell_type": "code",
   "execution_count": 2,
   "metadata": {},
   "outputs": [],
   "source": [
    "# Import API key\n",
    "from api_keys import datagov_key\n",
    "# URLs\n",
    "FBIurl = 'https://api.usa.gov/crime/fbi/sapi/'"
   ]
  },
  {
   "cell_type": "code",
   "execution_count": 3,
   "metadata": {
    "collapsed": true
   },
   "outputs": [
    {
     "data": {
      "text/plain": [
       "{'results': [{'state_id': 1,\n",
       "   'state_name': 'Alaska',\n",
       "   'state_abbr': 'AK',\n",
       "   'region_code': 4,\n",
       "   'state_fips_code': 2},\n",
       "  {'state_id': 2,\n",
       "   'state_name': 'Alabama',\n",
       "   'state_abbr': 'AL',\n",
       "   'region_code': 3,\n",
       "   'state_fips_code': 1},\n",
       "  {'state_id': 3,\n",
       "   'state_name': 'Arkansas',\n",
       "   'state_abbr': 'AR',\n",
       "   'region_code': 3,\n",
       "   'state_fips_code': 5},\n",
       "  {'state_id': 4,\n",
       "   'state_name': 'American Samoa',\n",
       "   'state_abbr': 'AS',\n",
       "   'region_code': 99,\n",
       "   'state_fips_code': 60},\n",
       "  {'state_id': 5,\n",
       "   'state_name': 'Arizona',\n",
       "   'state_abbr': 'AZ',\n",
       "   'region_code': 4,\n",
       "   'state_fips_code': 4},\n",
       "  {'state_id': 6,\n",
       "   'state_name': 'California',\n",
       "   'state_abbr': 'CA',\n",
       "   'region_code': 4,\n",
       "   'state_fips_code': 6},\n",
       "  {'state_id': 7,\n",
       "   'state_name': 'Colorado',\n",
       "   'state_abbr': 'CO',\n",
       "   'region_code': 4,\n",
       "   'state_fips_code': 8},\n",
       "  {'state_id': 8,\n",
       "   'state_name': 'Connecticut',\n",
       "   'state_abbr': 'CT',\n",
       "   'region_code': 1,\n",
       "   'state_fips_code': 9},\n",
       "  {'state_id': 9,\n",
       "   'state_name': 'Canal Zone',\n",
       "   'state_abbr': 'CZ',\n",
       "   'region_code': 99,\n",
       "   'state_fips_code': None},\n",
       "  {'state_id': 10,\n",
       "   'state_name': 'District of Columbia',\n",
       "   'state_abbr': 'DC',\n",
       "   'region_code': 3,\n",
       "   'state_fips_code': 11},\n",
       "  {'state_id': 11,\n",
       "   'state_name': 'Delaware',\n",
       "   'state_abbr': 'DE',\n",
       "   'region_code': 3,\n",
       "   'state_fips_code': 10},\n",
       "  {'state_id': 12,\n",
       "   'state_name': 'Florida',\n",
       "   'state_abbr': 'FL',\n",
       "   'region_code': 3,\n",
       "   'state_fips_code': 12},\n",
       "  {'state_id': 13,\n",
       "   'state_name': 'Georgia',\n",
       "   'state_abbr': 'GA',\n",
       "   'region_code': 3,\n",
       "   'state_fips_code': 13},\n",
       "  {'state_id': 14,\n",
       "   'state_name': 'Guam',\n",
       "   'state_abbr': 'GM',\n",
       "   'region_code': 0,\n",
       "   'state_fips_code': 66},\n",
       "  {'state_id': 15,\n",
       "   'state_name': 'Hawaii',\n",
       "   'state_abbr': 'HI',\n",
       "   'region_code': 4,\n",
       "   'state_fips_code': 15},\n",
       "  {'state_id': 16,\n",
       "   'state_name': 'Iowa',\n",
       "   'state_abbr': 'IA',\n",
       "   'region_code': 2,\n",
       "   'state_fips_code': 19},\n",
       "  {'state_id': 17,\n",
       "   'state_name': 'Idaho',\n",
       "   'state_abbr': 'ID',\n",
       "   'region_code': 4,\n",
       "   'state_fips_code': 16},\n",
       "  {'state_id': 18,\n",
       "   'state_name': 'Illinois',\n",
       "   'state_abbr': 'IL',\n",
       "   'region_code': 2,\n",
       "   'state_fips_code': 17},\n",
       "  {'state_id': 19,\n",
       "   'state_name': 'Indiana',\n",
       "   'state_abbr': 'IN',\n",
       "   'region_code': 2,\n",
       "   'state_fips_code': 18},\n",
       "  {'state_id': 20,\n",
       "   'state_name': 'Kansas',\n",
       "   'state_abbr': 'KS',\n",
       "   'region_code': 2,\n",
       "   'state_fips_code': 20}],\n",
       " 'pagination': {'count': 58, 'page': 0, 'pages': 3, 'per_page': 20}}"
      ]
     },
     "execution_count": 3,
     "metadata": {},
     "output_type": "execute_result"
    }
   ],
   "source": [
    "# State catalogue data\n",
    "states = f\"{FBIurl}api/states\"\n",
    "statesUrl = f\"{states}?api_key={datagov_key}\"\n",
    "# Retrieve data and convert to json\n",
    "statesCatalague = requests.get(statesUrl).json()\n",
    "statesCatalague"
   ]
  },
  {
   "cell_type": "code",
   "execution_count": null,
   "metadata": {},
   "outputs": [],
   "source": []
  }
 ],
 "metadata": {
  "kernelspec": {
   "display_name": "Python 3",
   "language": "python",
   "name": "python3"
  },
  "language_info": {
   "codemirror_mode": {
    "name": "ipython",
    "version": 3
   },
   "file_extension": ".py",
   "mimetype": "text/x-python",
   "name": "python",
   "nbconvert_exporter": "python",
   "pygments_lexer": "ipython3",
   "version": "3.7.4"
  }
 },
 "nbformat": 4,
 "nbformat_minor": 2
}
